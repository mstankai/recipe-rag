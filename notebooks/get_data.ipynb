{
 "cells": [
  {
   "cell_type": "code",
   "execution_count": 1,
   "metadata": {},
   "outputs": [],
   "source": [
    "import requests\n",
    "import pandas as pd\n",
    "from datetime import datetime, timedelta\n",
    "from utils import get_api_key\n",
    "\n",
    "# todo - clean up!"
   ]
  },
  {
   "cell_type": "code",
   "execution_count": 2,
   "metadata": {},
   "outputs": [],
   "source": [
    "# Guardian API setup\n",
    "API_KEY = get_api_key(\"guardian_api_key\")\n",
    "BASE_URL = \"https://content.guardianapis.com/search\""
   ]
  },
  {
   "cell_type": "code",
   "execution_count": 3,
   "metadata": {},
   "outputs": [],
   "source": [
    "# Define date range (past year)\n",
    "today = datetime.now()\n",
    "one_year_ago = today - timedelta(days=365)\n",
    "from_date = one_year_ago.strftime(\"%Y-%m-%d\")\n",
    "to_date = today.strftime(\"%Y-%m-%d\")\n",
    "\n",
    "# Function to fetch articles\n",
    "def fetch_articles(page=1):\n",
    "    params = {\n",
    "        \"api-key\": API_KEY,\n",
    "        \"section\": \"food\",\n",
    "        \"q\": \"recipe\",\n",
    "        \"from-date\": from_date,\n",
    "        \"to-date\": to_date,\n",
    "        \"page\": page,\n",
    "        \"page-size\": 10,  # Adjust as needed\n",
    "        \"show-fields\": \"byline,headline,trailText,thumbnail,bodyText\",\n",
    "        \"show-tags\": \"keyword,contributor,tone\",\n",
    "    }\n",
    "    response = requests.get(BASE_URL, params=params)\n",
    "    response.raise_for_status()\n",
    "    return response.json()\n",
    "\n",
    "# Fetch and process articles\n",
    "def get_recipes():\n",
    "    page = 1\n",
    "    all_articles = []\n",
    "    while True:\n",
    "        data = fetch_articles(page)\n",
    "        articles = data[\"response\"][\"results\"]\n",
    "        if not articles:\n",
    "            break\n",
    "        for article in articles:\n",
    "            tags = [tag[\"webTitle\"] for tag in article.get(\"tags\", [])]\n",
    "            contributors = [tag[\"webTitle\"] for tag in article.get(\"tags\", []) if tag[\"type\"] == \"contributor\"]\n",
    "            all_articles.append({\n",
    "                \"title\": article[\"fields\"].get(\"headline\", article[\"webTitle\"]),\n",
    "                \"author\": article[\"fields\"].get(\"byline\", \"; \".join(contributors)),\n",
    "                \"url\": article[\"webUrl\"],\n",
    "                \"publication_date\": article[\"webPublicationDate\"],\n",
    "                \"summary\": article[\"fields\"].get(\"trailText\", \"\"),\n",
    "                \"tags\": \", \".join(tags),\n",
    "                \"thumbnail\": article[\"fields\"].get(\"thumbnail\", \"\"),\n",
    "                \"body\": article[\"fields\"].get(\"bodyText\", \"\"),\n",
    "            })\n",
    "        page += 1\n",
    "        if page > data[\"response\"][\"pages\"]:\n",
    "            break\n",
    "    return all_articles\n",
    "\n",
    "# Fetch data and save as CSV\n",
    "recipes = get_recipes()\n",
    "df = pd.DataFrame(recipes)"
   ]
  },
  {
   "cell_type": "code",
   "execution_count": null,
   "metadata": {},
   "outputs": [],
   "source": [
    "df.head()"
   ]
  },
  {
   "cell_type": "code",
   "execution_count": null,
   "metadata": {},
   "outputs": [],
   "source": [
    "import pandas as pd\n",
    "import matplotlib.pyplot as plt\n",
    "\n",
    "# Set global DPI for all plots\n",
    "plt.rcParams['figure.dpi'] = 150\n",
    "plt.rcParams['figure.figsize'] = (8,6)\n",
    "\n",
    "# Ensure the 'tags' column is properly split into lists\n",
    "df['tags'] = df['tags'].str.split(', ')\n",
    "\n",
    "# Count occurrences of authors and tags\n",
    "author_counts = df['author'].value_counts().head(10)  # Top 10 authors\n",
    "all_tags = [tag for tags_list in df['tags'].dropna() for tag in tags_list]\n",
    "tags_counts = pd.Series(all_tags).value_counts().head(10)  # Top 10 tags\n",
    "\n",
    "# Plot bar chart for top 10 authors\n",
    "plt.figure()\n",
    "author_counts.plot(kind='bar', color='skyblue', title='Top 10 Authors by Article Count')\n",
    "plt.xlabel('Authors')\n",
    "plt.ylabel('Number of Articles')\n",
    "plt.xticks(rotation=45, ha='right')\n",
    "plt.tight_layout()\n",
    "plt.show()\n",
    "\n",
    "# Plot bar chart for top 10 tags\n",
    "plt.figure()\n",
    "tags_counts.plot(kind='bar', color='orange', title='Top 10 Tags by Count')\n",
    "plt.xlabel('Tags')\n",
    "plt.ylabel('Number of Occurrences')\n",
    "plt.xticks(rotation=45, ha='right')\n",
    "plt.tight_layout()\n",
    "plt.show()\n"
   ]
  },
  {
   "cell_type": "code",
   "execution_count": null,
   "metadata": {},
   "outputs": [],
   "source": [
    "df['short_context'] = df['title'] + ': ' + df['summary'] + 'TAGS: ' + df['tags'].map(lambda x: ', '.join(x)) \n",
    "df.head()"
   ]
  },
  {
   "cell_type": "code",
   "execution_count": null,
   "metadata": {},
   "outputs": [],
   "source": [
    "from transformers import pipeline\n",
    "import pandas as pd\n",
    "from concurrent.futures import ThreadPoolExecutor\n",
    "from tqdm import tqdm\n",
    "import os\n",
    "\n",
    "# Initialize zero-shot classification pipeline\n",
    "classifier = pipeline(\"zero-shot-classification\", model=\"facebook/bart-large-mnli\")\n",
    "\n",
    "# Broad cuisine categories\n",
    "cuisine_labels = [\n",
    "    \"Italian\", \"Indian\", \"Asian\", \"Mexican\", \"European\", \n",
    "    \"American\", \"Mediterranean\", \n",
    "    \"Middle Eastern\", \"African\", \"Desert\", \"Other\"\n",
    "]\n",
    "\n",
    "# Function to classify a batch of texts\n",
    "def classify_batch(batch_texts):\n",
    "    results = classifier(batch_texts, cuisine_labels, multi_label=False)\n",
    "    return [result['labels'][0] for result in results]\n",
    "\n",
    "# Determine the number of available threads\n",
    "num_threads = os.cpu_count()\n",
    "print(f\"Using {num_threads} threads for parallel processing.\")\n",
    "\n",
    "# Split the data into chunks for parallel processing\n",
    "chunk_size = len(df) // num_threads + 1\n",
    "chunks = [df.iloc[i:i + chunk_size] for i in range(0, len(df), chunk_size)]\n",
    "print(f\"Splitting {len(df)} rows into chunks of len = {chunk_size}.\")\n",
    "\n",
    "\n",
    "# Perform classification in parallel with a loading bar\n",
    "predicted_cuisines = []\n",
    "for chunk in tqdm(chunks, desc=\"Processing chunks\"):\n",
    "    predicted_cuisines.extend(classify_batch(chunk['short_context'].tolist()))\n",
    "\n",
    "# Add the predictions to the DataFrame\n",
    "df['cuisine'] = predicted_cuisines"
   ]
  },
  {
   "cell_type": "code",
   "execution_count": null,
   "metadata": {},
   "outputs": [],
   "source": [
    "df[['title','cuisine']].head()\n"
   ]
  },
  {
   "cell_type": "code",
   "execution_count": null,
   "metadata": {},
   "outputs": [],
   "source": [
    "import matplotlib.pyplot as plt\n",
    "\n",
    "# Bar plot for cuisine counts\n",
    "cuisine_counts = df['cuisine'].value_counts()\n",
    "\n",
    "# Plot the cuisines\n",
    "plt.figure(figsize=(10, 6), dpi=300)\n",
    "cuisine_counts.plot(kind='bar', color='skyblue', title='Recipe Counts by Cuisine')\n",
    "plt.xlabel('Cuisine')\n",
    "plt.ylabel('Number of Recipes')\n",
    "plt.xticks(rotation=45, ha='right')\n",
    "plt.tight_layout()\n",
    "plt.show()"
   ]
  },
  {
   "cell_type": "code",
   "execution_count": null,
   "metadata": {},
   "outputs": [],
   "source": [
    "# to do -- add mkdir of data\n",
    "df.to_csv(\"../data/guardian_recipes.csv\", index=False)\n",
    "print(f\"Saved {len(recipes)} recipes to 'guardian_recipes_with_tags.csv'\")"
   ]
  },
  {
   "cell_type": "code",
   "execution_count": null,
   "metadata": {},
   "outputs": [],
   "source": []
  }
 ],
 "metadata": {
  "kernelspec": {
   "display_name": "recipe-rag",
   "language": "python",
   "name": "python3"
  },
  "language_info": {
   "codemirror_mode": {
    "name": "ipython",
    "version": 3
   },
   "file_extension": ".py",
   "mimetype": "text/x-python",
   "name": "python",
   "nbconvert_exporter": "python",
   "pygments_lexer": "ipython3",
   "version": "3.12.7"
  }
 },
 "nbformat": 4,
 "nbformat_minor": 2
}
