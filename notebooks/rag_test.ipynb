{
 "cells": [
  {
   "cell_type": "code",
   "execution_count": 18,
   "metadata": {},
   "outputs": [],
   "source": [
    "import faiss\n",
    "import numpy as np\n",
    "import pandas as pd\n",
    "from tqdm import tqdm\n",
    "from sentence_transformers import SentenceTransformer\n",
    "from sklearn.preprocessing import normalize\n",
    "from ast import literal_eval"
   ]
  },
  {
   "cell_type": "code",
   "execution_count": 19,
   "metadata": {},
   "outputs": [
    {
     "data": {
      "text/plain": [
       "(1114, 16)"
      ]
     },
     "execution_count": 19,
     "metadata": {},
     "output_type": "execute_result"
    }
   ],
   "source": [
    "raw_df = pd.read_csv('../data/guardian_data_clean.csv')\n",
    "df = raw_df.copy()\n",
    "df.shape"
   ]
  },
  {
   "cell_type": "code",
   "execution_count": 20,
   "metadata": {},
   "outputs": [],
   "source": [
    "df.fillna('', inplace=True)"
   ]
  },
  {
   "cell_type": "code",
   "execution_count": 21,
   "metadata": {},
   "outputs": [],
   "source": [
    "df['tag_str'] = df.tags.map(lambda x: ', '.join(literal_eval(x)) )"
   ]
  },
  {
   "cell_type": "code",
   "execution_count": 22,
   "metadata": {},
   "outputs": [],
   "source": [
    "# concatenate text content\n",
    "df['content'] = (\n",
    "    'Title: ' + df['title'] + ' | '\n",
    "    + df['section'] + ' '\n",
    "    + 'Author: ' + df['author'] + ' '\n",
    "    + 'Text:  ' + df['body'] + ' '\n",
    "    + '. KEYWORDS: ' + df['tag_str']  \n",
    ")\n"
   ]
  },
  {
   "cell_type": "code",
   "execution_count": 23,
   "metadata": {},
   "outputs": [
    {
     "name": "stderr",
     "output_type": "stream",
     "text": [
      "Batches: 100%|██████████| 35/35 [00:11<00:00,  3.07it/s]\n"
     ]
    }
   ],
   "source": [
    "# generate\n",
    "model = SentenceTransformer('all-MiniLM-L6-v2')\n",
    "embeddings = model.encode(df['content'].tolist(), show_progress_bar=True)\n",
    "embeddings_norm = normalize(embeddings, axis=1)"
   ]
  },
  {
   "cell_type": "code",
   "execution_count": 24,
   "metadata": {},
   "outputs": [],
   "source": [
    "dimension = embeddings_norm.shape[1]\n",
    "out_index = faiss.IndexFlatIP(dimension)\n",
    "out_index.add(np.array(embeddings_norm))"
   ]
  },
  {
   "cell_type": "code",
   "execution_count": 25,
   "metadata": {},
   "outputs": [],
   "source": [
    "faiss.write_index(out_index, \"../embeddings/recipe_embeddings.index\")\n",
    "# to do - explore faiss a bit more, visualise it."
   ]
  },
  {
   "cell_type": "markdown",
   "metadata": {},
   "source": [
    "## RAG"
   ]
  },
  {
   "cell_type": "code",
   "execution_count": 26,
   "metadata": {},
   "outputs": [],
   "source": [
    "# TO DO: add rag evaluation\n",
    "# TO DO: add keyword generation"
   ]
  },
  {
   "cell_type": "code",
   "execution_count": 27,
   "metadata": {},
   "outputs": [],
   "source": [
    "query = \"Can you suggest an easy vegetarian recipe?\""
   ]
  },
  {
   "cell_type": "code",
   "execution_count": 28,
   "metadata": {},
   "outputs": [],
   "source": [
    "index = faiss.read_index(\"../embeddings/recipe_embeddings.index\")"
   ]
  },
  {
   "cell_type": "code",
   "execution_count": 29,
   "metadata": {},
   "outputs": [],
   "source": [
    "import numpy as np\n",
    "\n",
    "def retrieve_recipes(query, model, index, df, k=5):\n",
    "    \"\"\"\n",
    "    Retrieve the top k recipes similar to the query using FAISS.\n",
    "    \"\"\"\n",
    "    query_embedding = model.encode([query])\n",
    "    query_embedding_norm = normalize(query_embedding, axis=1)\n",
    "    distances, idx = index.search(np.array(query_embedding_norm), k)\n",
    "    retrieved_data = df.iloc[idx[0]].copy()\n",
    "    retrieved_data['similarity_score'] = 1 - distances[0]\n",
    "\n",
    "    return retrieved_data"
   ]
  },
  {
   "cell_type": "code",
   "execution_count": 33,
   "metadata": {},
   "outputs": [
    {
     "data": {
      "text/html": [
       "<div>\n",
       "<style scoped>\n",
       "    .dataframe tbody tr th:only-of-type {\n",
       "        vertical-align: middle;\n",
       "    }\n",
       "\n",
       "    .dataframe tbody tr th {\n",
       "        vertical-align: top;\n",
       "    }\n",
       "\n",
       "    .dataframe thead th {\n",
       "        text-align: right;\n",
       "    }\n",
       "</style>\n",
       "<table border=\"1\" class=\"dataframe\">\n",
       "  <thead>\n",
       "    <tr style=\"text-align: right;\">\n",
       "      <th></th>\n",
       "      <th>content</th>\n",
       "      <th>similarity_score</th>\n",
       "    </tr>\n",
       "  </thead>\n",
       "  <tbody>\n",
       "    <tr>\n",
       "      <th>575</th>\n",
       "      <td>Title: Joe Woodhouse’s vegetarian standouts fo...</td>\n",
       "      <td>0.382591</td>\n",
       "    </tr>\n",
       "    <tr>\n",
       "      <th>356</th>\n",
       "      <td>Title: How to make vegetarian bibimbap – recip...</td>\n",
       "      <td>0.414459</td>\n",
       "    </tr>\n",
       "    <tr>\n",
       "      <th>26</th>\n",
       "      <td>Title: How to make vegetarian scotch eggs – re...</td>\n",
       "      <td>0.416668</td>\n",
       "    </tr>\n",
       "  </tbody>\n",
       "</table>\n",
       "</div>"
      ],
      "text/plain": [
       "                                               content  similarity_score\n",
       "575  Title: Joe Woodhouse’s vegetarian standouts fo...          0.382591\n",
       "356  Title: How to make vegetarian bibimbap – recip...          0.414459\n",
       "26   Title: How to make vegetarian scotch eggs – re...          0.416668"
      ]
     },
     "execution_count": 33,
     "metadata": {},
     "output_type": "execute_result"
    }
   ],
   "source": [
    "top_k_recipes = retrieve_recipes(query, model, index, df, k=3)\n",
    "top_k_recipes[['content', 'similarity_score']]\n",
    "# to do - how do I evaluate the quality of the recommendations?"
   ]
  },
  {
   "cell_type": "code",
   "execution_count": 48,
   "metadata": {},
   "outputs": [],
   "source": [
    "def get_system_prompt(recipes: list[str]):\n",
    "    system_prompt = f\"\"\"\n",
    "    You work for the Guardian food section and you are knowledgeable about their recipes.\n",
    "    Readers will come to you with questions. You should answer the questions based on the provided Guardian articles.\n",
    "    You should mention the articles to the reader.\n",
    "    You should not provide the full text of the articles, but you can provide a summary.\n",
    "    Make it inclusive for ASD and ADHD readers.\n",
    "    \"\"\"\n",
    "    i = 1\n",
    "    for r in recipes:\n",
    "        system_prompt += f\"RECIPE {i}: {r}\"\n",
    "        i += 1\n",
    "\n",
    "    return {\"role\": \"system\", \"content\": system_prompt}\n",
    "\n",
    "# in the future could add a similarity score to the prompt \n",
    "# to allow to ask clarifying questions and improve recommendations"
   ]
  },
  {
   "cell_type": "code",
   "execution_count": 49,
   "metadata": {},
   "outputs": [
    {
     "name": "stdout",
     "output_type": "stream",
     "text": [
      "You: Can you suggest an easy vegetarian recipe?\n",
      "\n",
      "Assistant: Sure! If you're looking for an easy vegetarian recipe, I recommend trying Joe Woodhouse’s *Squash, red onion and stilton pie* from his article \"Joe Woodhouse’s vegetarian standouts for Christmas day.\" \n",
      "\n",
      "This recipe is quite flexible, allowing you to use various vegetables you might have at hand, and it's perfect for making ahead of time. Here’s a quick summary of the steps:\n",
      "\n",
      "1. Roast chunks of squash with red onions in the oven.\n",
      "2. Sauté some greens until wilted.\n",
      "3. Layer it all with filo pastry and stilton cheese in a baking tin.\n",
      "4. Bake until golden brown.\n",
      "\n",
      "The whole process takes about 1 hour and 30 minutes and serves 6, making it great for sharing. Plus, it reheats well if you make it ahead of time!\n",
      "\n",
      "Let me know if you’d like more details or another recipe!\n"
     ]
    }
   ],
   "source": [
    "from openai import OpenAI\n",
    "from utils import read_yaml, get_api_key, get_openai_completion\n",
    "\n",
    "config = read_yaml(\"../config/rag_config.yaml\")\n",
    "api_key = get_api_key(config[\"api_key_name\"])\n",
    "\n",
    "client = OpenAI(api_key = api_key)\n",
    "\n",
    "messages = [get_system_prompt(top_k_recipes['content'].tolist())]\n",
    "\n",
    "print(f\"You: {query}\")\n",
    "messages.append({\"role\": \"user\", \"content\": query})\n",
    "\n",
    "answ = get_openai_completion(client, config[\"model\"], messages)[0]\n",
    "print(f\"\\nAssistant: {answ}\")"
   ]
  }
 ],
 "metadata": {
  "kernelspec": {
   "display_name": "recipe-rag",
   "language": "python",
   "name": "python3"
  },
  "language_info": {
   "codemirror_mode": {
    "name": "ipython",
    "version": 3
   },
   "file_extension": ".py",
   "mimetype": "text/x-python",
   "name": "python",
   "nbconvert_exporter": "python",
   "pygments_lexer": "ipython3",
   "version": "3.12.7"
  }
 },
 "nbformat": 4,
 "nbformat_minor": 2
}
